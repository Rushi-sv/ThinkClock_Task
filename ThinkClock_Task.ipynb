{
 "cells": [
  {
   "cell_type": "code",
   "execution_count": 1,
   "metadata": {},
   "outputs": [],
   "source": [
    "import numpy as np\n",
    "import pandas as pd\n",
    "import seaborn as sns\n",
    "import matplotlib.pyplot as plt\n",
    "\n",
    "df = pd.read_excel('E:\\Intern Tasks\\ICBHI_final_database\\Book1.xlsx')"
   ]
  },
  {
   "cell_type": "code",
   "execution_count": 2,
   "metadata": {
    "scrolled": true
   },
   "outputs": [
    {
     "data": {
      "text/html": [
       "<div>\n",
       "<style scoped>\n",
       "    .dataframe tbody tr th:only-of-type {\n",
       "        vertical-align: middle;\n",
       "    }\n",
       "\n",
       "    .dataframe tbody tr th {\n",
       "        vertical-align: top;\n",
       "    }\n",
       "\n",
       "    .dataframe thead th {\n",
       "        text-align: right;\n",
       "    }\n",
       "</style>\n",
       "<table border=\"1\" class=\"dataframe\">\n",
       "  <thead>\n",
       "    <tr style=\"text-align: right;\">\n",
       "      <th></th>\n",
       "      <th>Patient number</th>\n",
       "      <th>Recording index</th>\n",
       "      <th>Chest location</th>\n",
       "      <th>Acquisition mode</th>\n",
       "      <th>Recording equipment</th>\n",
       "      <th>Beginning of respiratory cycle</th>\n",
       "      <th>End of respiratory cycle</th>\n",
       "      <th>Crackles</th>\n",
       "      <th>Wheezes</th>\n",
       "      <th>Age</th>\n",
       "      <th>Sex</th>\n",
       "      <th>BMI(Adult)</th>\n",
       "      <th>Height(Child)</th>\n",
       "      <th>Weight(Child)</th>\n",
       "      <th>Label</th>\n",
       "      <th>Column1</th>\n",
       "    </tr>\n",
       "  </thead>\n",
       "  <tbody>\n",
       "    <tr>\n",
       "      <th>0</th>\n",
       "      <td>101</td>\n",
       "      <td>1b1</td>\n",
       "      <td>Al</td>\n",
       "      <td>sc</td>\n",
       "      <td>Meditron</td>\n",
       "      <td>0.036</td>\n",
       "      <td>0.579</td>\n",
       "      <td>0</td>\n",
       "      <td>0</td>\n",
       "      <td>3.0</td>\n",
       "      <td>F</td>\n",
       "      <td>NaN</td>\n",
       "      <td>99.0</td>\n",
       "      <td>19.0</td>\n",
       "      <td>URTI</td>\n",
       "      <td>test</td>\n",
       "    </tr>\n",
       "    <tr>\n",
       "      <th>1</th>\n",
       "      <td>101</td>\n",
       "      <td>1b1</td>\n",
       "      <td>Al</td>\n",
       "      <td>sc</td>\n",
       "      <td>Meditron</td>\n",
       "      <td>0.579</td>\n",
       "      <td>2.450</td>\n",
       "      <td>0</td>\n",
       "      <td>0</td>\n",
       "      <td>3.0</td>\n",
       "      <td>F</td>\n",
       "      <td>NaN</td>\n",
       "      <td>99.0</td>\n",
       "      <td>19.0</td>\n",
       "      <td>URTI</td>\n",
       "      <td>test</td>\n",
       "    </tr>\n",
       "    <tr>\n",
       "      <th>2</th>\n",
       "      <td>101</td>\n",
       "      <td>1b1</td>\n",
       "      <td>Al</td>\n",
       "      <td>sc</td>\n",
       "      <td>Meditron</td>\n",
       "      <td>2.450</td>\n",
       "      <td>3.893</td>\n",
       "      <td>0</td>\n",
       "      <td>0</td>\n",
       "      <td>3.0</td>\n",
       "      <td>F</td>\n",
       "      <td>NaN</td>\n",
       "      <td>99.0</td>\n",
       "      <td>19.0</td>\n",
       "      <td>URTI</td>\n",
       "      <td>test</td>\n",
       "    </tr>\n",
       "    <tr>\n",
       "      <th>3</th>\n",
       "      <td>101</td>\n",
       "      <td>1b1</td>\n",
       "      <td>Al</td>\n",
       "      <td>sc</td>\n",
       "      <td>Meditron</td>\n",
       "      <td>3.893</td>\n",
       "      <td>5.793</td>\n",
       "      <td>0</td>\n",
       "      <td>0</td>\n",
       "      <td>3.0</td>\n",
       "      <td>F</td>\n",
       "      <td>NaN</td>\n",
       "      <td>99.0</td>\n",
       "      <td>19.0</td>\n",
       "      <td>URTI</td>\n",
       "      <td>test</td>\n",
       "    </tr>\n",
       "    <tr>\n",
       "      <th>4</th>\n",
       "      <td>101</td>\n",
       "      <td>1b1</td>\n",
       "      <td>Al</td>\n",
       "      <td>sc</td>\n",
       "      <td>Meditron</td>\n",
       "      <td>5.793</td>\n",
       "      <td>7.521</td>\n",
       "      <td>0</td>\n",
       "      <td>0</td>\n",
       "      <td>3.0</td>\n",
       "      <td>F</td>\n",
       "      <td>NaN</td>\n",
       "      <td>99.0</td>\n",
       "      <td>19.0</td>\n",
       "      <td>URTI</td>\n",
       "      <td>test</td>\n",
       "    </tr>\n",
       "  </tbody>\n",
       "</table>\n",
       "</div>"
      ],
      "text/plain": [
       "   Patient number Recording index Chest location Acquisition mode  \\\n",
       "0             101             1b1             Al               sc   \n",
       "1             101             1b1             Al               sc   \n",
       "2             101             1b1             Al               sc   \n",
       "3             101             1b1             Al               sc   \n",
       "4             101             1b1             Al               sc   \n",
       "\n",
       "  Recording equipment  Beginning of respiratory cycle  \\\n",
       "0            Meditron                           0.036   \n",
       "1            Meditron                           0.579   \n",
       "2            Meditron                           2.450   \n",
       "3            Meditron                           3.893   \n",
       "4            Meditron                           5.793   \n",
       "\n",
       "   End of respiratory cycle  Crackles  Wheezes  Age Sex  BMI(Adult)  \\\n",
       "0                     0.579         0        0  3.0   F         NaN   \n",
       "1                     2.450         0        0  3.0   F         NaN   \n",
       "2                     3.893         0        0  3.0   F         NaN   \n",
       "3                     5.793         0        0  3.0   F         NaN   \n",
       "4                     7.521         0        0  3.0   F         NaN   \n",
       "\n",
       "   Height(Child)  Weight(Child) Label Column1  \n",
       "0           99.0           19.0  URTI    test  \n",
       "1           99.0           19.0  URTI    test  \n",
       "2           99.0           19.0  URTI    test  \n",
       "3           99.0           19.0  URTI    test  \n",
       "4           99.0           19.0  URTI    test  "
      ]
     },
     "execution_count": 2,
     "metadata": {},
     "output_type": "execute_result"
    }
   ],
   "source": [
    "df.head()"
   ]
  },
  {
   "cell_type": "code",
   "execution_count": 3,
   "metadata": {},
   "outputs": [
    {
     "data": {
      "text/plain": [
       "(6898, 16)"
      ]
     },
     "execution_count": 3,
     "metadata": {},
     "output_type": "execute_result"
    }
   ],
   "source": [
    "df.shape"
   ]
  },
  {
   "cell_type": "code",
   "execution_count": 4,
   "metadata": {},
   "outputs": [
    {
     "name": "stdout",
     "output_type": "stream",
     "text": [
      "<class 'pandas.core.frame.DataFrame'>\n",
      "RangeIndex: 6898 entries, 0 to 6897\n",
      "Data columns (total 16 columns):\n",
      " #   Column                          Non-Null Count  Dtype  \n",
      "---  ------                          --------------  -----  \n",
      " 0   Patient number                  6898 non-null   int64  \n",
      " 1   Recording index                 6898 non-null   object \n",
      " 2   Chest location                  6898 non-null   object \n",
      " 3   Acquisition mode                6898 non-null   object \n",
      " 4   Recording equipment             6898 non-null   object \n",
      " 5   Beginning of respiratory cycle  6898 non-null   float64\n",
      " 6   End of respiratory cycle        6898 non-null   float64\n",
      " 7   Crackles                        6898 non-null   int64  \n",
      " 8   Wheezes                         6898 non-null   int64  \n",
      " 9   Age                             6837 non-null   float64\n",
      " 10  Sex                             6837 non-null   object \n",
      " 11  BMI(Adult)                      6004 non-null   float64\n",
      " 12  Height(Child)                   726 non-null    float64\n",
      " 13  Weight(Child)                   749 non-null    float64\n",
      " 14  Label                           6898 non-null   object \n",
      " 15  Column1                         6898 non-null   object \n",
      "dtypes: float64(6), int64(3), object(7)\n",
      "memory usage: 862.4+ KB\n"
     ]
    }
   ],
   "source": [
    "df.info()"
   ]
  },
  {
   "cell_type": "code",
   "execution_count": 5,
   "metadata": {},
   "outputs": [
    {
     "data": {
      "text/html": [
       "<div>\n",
       "<style scoped>\n",
       "    .dataframe tbody tr th:only-of-type {\n",
       "        vertical-align: middle;\n",
       "    }\n",
       "\n",
       "    .dataframe tbody tr th {\n",
       "        vertical-align: top;\n",
       "    }\n",
       "\n",
       "    .dataframe thead th {\n",
       "        text-align: right;\n",
       "    }\n",
       "</style>\n",
       "<table border=\"1\" class=\"dataframe\">\n",
       "  <thead>\n",
       "    <tr style=\"text-align: right;\">\n",
       "      <th></th>\n",
       "      <th>Patient number</th>\n",
       "      <th>Beginning of respiratory cycle</th>\n",
       "      <th>End of respiratory cycle</th>\n",
       "      <th>Crackles</th>\n",
       "      <th>Wheezes</th>\n",
       "      <th>Age</th>\n",
       "      <th>BMI(Adult)</th>\n",
       "      <th>Height(Child)</th>\n",
       "      <th>Weight(Child)</th>\n",
       "    </tr>\n",
       "  </thead>\n",
       "  <tbody>\n",
       "    <tr>\n",
       "      <th>count</th>\n",
       "      <td>6898.000000</td>\n",
       "      <td>6898.000000</td>\n",
       "      <td>6898.000000</td>\n",
       "      <td>6898.000000</td>\n",
       "      <td>6898.000000</td>\n",
       "      <td>6837.000000</td>\n",
       "      <td>6004.000000</td>\n",
       "      <td>726.000000</td>\n",
       "      <td>749.000000</td>\n",
       "    </tr>\n",
       "    <tr>\n",
       "      <th>mean</th>\n",
       "      <td>163.159322</td>\n",
       "      <td>10.680312</td>\n",
       "      <td>13.380821</td>\n",
       "      <td>0.343578</td>\n",
       "      <td>0.201798</td>\n",
       "      <td>61.955494</td>\n",
       "      <td>26.276126</td>\n",
       "      <td>95.233058</td>\n",
       "      <td>16.921736</td>\n",
       "    </tr>\n",
       "    <tr>\n",
       "      <th>std</th>\n",
       "      <td>33.434777</td>\n",
       "      <td>9.871169</td>\n",
       "      <td>10.032744</td>\n",
       "      <td>0.474937</td>\n",
       "      <td>0.401371</td>\n",
       "      <td>22.873476</td>\n",
       "      <td>5.700560</td>\n",
       "      <td>24.521615</td>\n",
       "      <td>12.261544</td>\n",
       "    </tr>\n",
       "    <tr>\n",
       "      <th>min</th>\n",
       "      <td>101.000000</td>\n",
       "      <td>0.000000</td>\n",
       "      <td>0.250000</td>\n",
       "      <td>0.000000</td>\n",
       "      <td>0.000000</td>\n",
       "      <td>0.250000</td>\n",
       "      <td>16.500000</td>\n",
       "      <td>64.000000</td>\n",
       "      <td>7.140000</td>\n",
       "    </tr>\n",
       "    <tr>\n",
       "      <th>25%</th>\n",
       "      <td>134.000000</td>\n",
       "      <td>4.042000</td>\n",
       "      <td>6.820250</td>\n",
       "      <td>0.000000</td>\n",
       "      <td>0.000000</td>\n",
       "      <td>58.000000</td>\n",
       "      <td>22.860000</td>\n",
       "      <td>76.000000</td>\n",
       "      <td>11.000000</td>\n",
       "    </tr>\n",
       "    <tr>\n",
       "      <th>50%</th>\n",
       "      <td>160.000000</td>\n",
       "      <td>9.336000</td>\n",
       "      <td>12.125000</td>\n",
       "      <td>0.000000</td>\n",
       "      <td>0.000000</td>\n",
       "      <td>68.000000</td>\n",
       "      <td>27.400000</td>\n",
       "      <td>94.000000</td>\n",
       "      <td>13.000000</td>\n",
       "    </tr>\n",
       "    <tr>\n",
       "      <th>75%</th>\n",
       "      <td>193.000000</td>\n",
       "      <td>14.826250</td>\n",
       "      <td>17.671000</td>\n",
       "      <td>1.000000</td>\n",
       "      <td>0.000000</td>\n",
       "      <td>75.000000</td>\n",
       "      <td>29.410000</td>\n",
       "      <td>103.000000</td>\n",
       "      <td>16.700000</td>\n",
       "    </tr>\n",
       "    <tr>\n",
       "      <th>max</th>\n",
       "      <td>226.000000</td>\n",
       "      <td>84.365000</td>\n",
       "      <td>86.200000</td>\n",
       "      <td>1.000000</td>\n",
       "      <td>1.000000</td>\n",
       "      <td>93.000000</td>\n",
       "      <td>53.500000</td>\n",
       "      <td>183.000000</td>\n",
       "      <td>80.000000</td>\n",
       "    </tr>\n",
       "  </tbody>\n",
       "</table>\n",
       "</div>"
      ],
      "text/plain": [
       "       Patient number  Beginning of respiratory cycle  \\\n",
       "count     6898.000000                     6898.000000   \n",
       "mean       163.159322                       10.680312   \n",
       "std         33.434777                        9.871169   \n",
       "min        101.000000                        0.000000   \n",
       "25%        134.000000                        4.042000   \n",
       "50%        160.000000                        9.336000   \n",
       "75%        193.000000                       14.826250   \n",
       "max        226.000000                       84.365000   \n",
       "\n",
       "       End of respiratory cycle     Crackles      Wheezes          Age  \\\n",
       "count               6898.000000  6898.000000  6898.000000  6837.000000   \n",
       "mean                  13.380821     0.343578     0.201798    61.955494   \n",
       "std                   10.032744     0.474937     0.401371    22.873476   \n",
       "min                    0.250000     0.000000     0.000000     0.250000   \n",
       "25%                    6.820250     0.000000     0.000000    58.000000   \n",
       "50%                   12.125000     0.000000     0.000000    68.000000   \n",
       "75%                   17.671000     1.000000     0.000000    75.000000   \n",
       "max                   86.200000     1.000000     1.000000    93.000000   \n",
       "\n",
       "        BMI(Adult)  Height(Child)  Weight(Child)  \n",
       "count  6004.000000     726.000000     749.000000  \n",
       "mean     26.276126      95.233058      16.921736  \n",
       "std       5.700560      24.521615      12.261544  \n",
       "min      16.500000      64.000000       7.140000  \n",
       "25%      22.860000      76.000000      11.000000  \n",
       "50%      27.400000      94.000000      13.000000  \n",
       "75%      29.410000     103.000000      16.700000  \n",
       "max      53.500000     183.000000      80.000000  "
      ]
     },
     "execution_count": 5,
     "metadata": {},
     "output_type": "execute_result"
    }
   ],
   "source": [
    "df.describe()"
   ]
  },
  {
   "cell_type": "markdown",
   "metadata": {},
   "source": [
    "## Data pre-processing"
   ]
  },
  {
   "cell_type": "code",
   "execution_count": 6,
   "metadata": {},
   "outputs": [
    {
     "data": {
      "text/plain": [
       "Patient number                       0\n",
       "Recording index                      0\n",
       "Chest location                       0\n",
       "Acquisition mode                     0\n",
       "Recording equipment                  0\n",
       "Beginning of respiratory cycle       0\n",
       "End of respiratory cycle             0\n",
       "Crackles                             0\n",
       "Wheezes                              0\n",
       "Age                                 61\n",
       "Sex                                 61\n",
       "BMI(Adult)                         894\n",
       "Height(Child)                     6172\n",
       "Weight(Child)                     6149\n",
       "Label                                0\n",
       "Column1                              0\n",
       "dtype: int64"
      ]
     },
     "execution_count": 6,
     "metadata": {},
     "output_type": "execute_result"
    }
   ],
   "source": [
    "null_values = df.isnull().sum()\n",
    "null_values"
   ]
  },
  {
   "cell_type": "code",
   "execution_count": 7,
   "metadata": {},
   "outputs": [
    {
     "data": {
      "text/html": [
       "<div>\n",
       "<style scoped>\n",
       "    .dataframe tbody tr th:only-of-type {\n",
       "        vertical-align: middle;\n",
       "    }\n",
       "\n",
       "    .dataframe tbody tr th {\n",
       "        vertical-align: top;\n",
       "    }\n",
       "\n",
       "    .dataframe thead th {\n",
       "        text-align: right;\n",
       "    }\n",
       "</style>\n",
       "<table border=\"1\" class=\"dataframe\">\n",
       "  <thead>\n",
       "    <tr style=\"text-align: right;\">\n",
       "      <th></th>\n",
       "      <th>Patient number</th>\n",
       "      <th>Recording index</th>\n",
       "      <th>Chest location</th>\n",
       "      <th>Acquisition mode</th>\n",
       "      <th>Recording equipment</th>\n",
       "      <th>Beginning of respiratory cycle</th>\n",
       "      <th>End of respiratory cycle</th>\n",
       "      <th>Crackles</th>\n",
       "      <th>Wheezes</th>\n",
       "      <th>Age</th>\n",
       "      <th>Sex</th>\n",
       "      <th>BMI(Adult)</th>\n",
       "      <th>Height(Child)</th>\n",
       "      <th>Weight(Child)</th>\n",
       "      <th>Label</th>\n",
       "      <th>Column1</th>\n",
       "    </tr>\n",
       "  </thead>\n",
       "  <tbody>\n",
       "    <tr>\n",
       "      <th>0</th>\n",
       "      <td>101</td>\n",
       "      <td>1b1</td>\n",
       "      <td>Al</td>\n",
       "      <td>sc</td>\n",
       "      <td>Meditron</td>\n",
       "      <td>0.036</td>\n",
       "      <td>0.579</td>\n",
       "      <td>0</td>\n",
       "      <td>0</td>\n",
       "      <td>3.0</td>\n",
       "      <td>F</td>\n",
       "      <td>NaN</td>\n",
       "      <td>99.0</td>\n",
       "      <td>19.0</td>\n",
       "      <td>0</td>\n",
       "      <td>test</td>\n",
       "    </tr>\n",
       "    <tr>\n",
       "      <th>1</th>\n",
       "      <td>101</td>\n",
       "      <td>1b1</td>\n",
       "      <td>Al</td>\n",
       "      <td>sc</td>\n",
       "      <td>Meditron</td>\n",
       "      <td>0.579</td>\n",
       "      <td>2.450</td>\n",
       "      <td>0</td>\n",
       "      <td>0</td>\n",
       "      <td>3.0</td>\n",
       "      <td>F</td>\n",
       "      <td>NaN</td>\n",
       "      <td>99.0</td>\n",
       "      <td>19.0</td>\n",
       "      <td>0</td>\n",
       "      <td>test</td>\n",
       "    </tr>\n",
       "    <tr>\n",
       "      <th>2</th>\n",
       "      <td>101</td>\n",
       "      <td>1b1</td>\n",
       "      <td>Al</td>\n",
       "      <td>sc</td>\n",
       "      <td>Meditron</td>\n",
       "      <td>2.450</td>\n",
       "      <td>3.893</td>\n",
       "      <td>0</td>\n",
       "      <td>0</td>\n",
       "      <td>3.0</td>\n",
       "      <td>F</td>\n",
       "      <td>NaN</td>\n",
       "      <td>99.0</td>\n",
       "      <td>19.0</td>\n",
       "      <td>0</td>\n",
       "      <td>test</td>\n",
       "    </tr>\n",
       "    <tr>\n",
       "      <th>3</th>\n",
       "      <td>101</td>\n",
       "      <td>1b1</td>\n",
       "      <td>Al</td>\n",
       "      <td>sc</td>\n",
       "      <td>Meditron</td>\n",
       "      <td>3.893</td>\n",
       "      <td>5.793</td>\n",
       "      <td>0</td>\n",
       "      <td>0</td>\n",
       "      <td>3.0</td>\n",
       "      <td>F</td>\n",
       "      <td>NaN</td>\n",
       "      <td>99.0</td>\n",
       "      <td>19.0</td>\n",
       "      <td>0</td>\n",
       "      <td>test</td>\n",
       "    </tr>\n",
       "    <tr>\n",
       "      <th>4</th>\n",
       "      <td>101</td>\n",
       "      <td>1b1</td>\n",
       "      <td>Al</td>\n",
       "      <td>sc</td>\n",
       "      <td>Meditron</td>\n",
       "      <td>5.793</td>\n",
       "      <td>7.521</td>\n",
       "      <td>0</td>\n",
       "      <td>0</td>\n",
       "      <td>3.0</td>\n",
       "      <td>F</td>\n",
       "      <td>NaN</td>\n",
       "      <td>99.0</td>\n",
       "      <td>19.0</td>\n",
       "      <td>0</td>\n",
       "      <td>test</td>\n",
       "    </tr>\n",
       "  </tbody>\n",
       "</table>\n",
       "</div>"
      ],
      "text/plain": [
       "   Patient number Recording index Chest location Acquisition mode  \\\n",
       "0             101             1b1             Al               sc   \n",
       "1             101             1b1             Al               sc   \n",
       "2             101             1b1             Al               sc   \n",
       "3             101             1b1             Al               sc   \n",
       "4             101             1b1             Al               sc   \n",
       "\n",
       "  Recording equipment  Beginning of respiratory cycle  \\\n",
       "0            Meditron                           0.036   \n",
       "1            Meditron                           0.579   \n",
       "2            Meditron                           2.450   \n",
       "3            Meditron                           3.893   \n",
       "4            Meditron                           5.793   \n",
       "\n",
       "   End of respiratory cycle  Crackles  Wheezes  Age Sex  BMI(Adult)  \\\n",
       "0                     0.579         0        0  3.0   F         NaN   \n",
       "1                     2.450         0        0  3.0   F         NaN   \n",
       "2                     3.893         0        0  3.0   F         NaN   \n",
       "3                     5.793         0        0  3.0   F         NaN   \n",
       "4                     7.521         0        0  3.0   F         NaN   \n",
       "\n",
       "   Height(Child)  Weight(Child)  Label Column1  \n",
       "0           99.0           19.0      0    test  \n",
       "1           99.0           19.0      0    test  \n",
       "2           99.0           19.0      0    test  \n",
       "3           99.0           19.0      0    test  \n",
       "4           99.0           19.0      0    test  "
      ]
     },
     "execution_count": 7,
     "metadata": {},
     "output_type": "execute_result"
    }
   ],
   "source": [
    "df['Label'].replace(['Healthy','URTI', 'Asthma', 'COPD', 'LRTI', 'Bronchiectasis','Pneumonia', 'Bronchiolitis'],[1,0,0,0,0,0,0,0],inplace=True)\n",
    "df.head()"
   ]
  },
  {
   "cell_type": "code",
   "execution_count": 8,
   "metadata": {},
   "outputs": [],
   "source": [
    "df = df.fillna(0)\n",
    "df = df.drop(['Recording index'],axis = 1)"
   ]
  },
  {
   "cell_type": "markdown",
   "metadata": {},
   "source": [
    "### Train-test split"
   ]
  },
  {
   "cell_type": "code",
   "execution_count": 9,
   "metadata": {},
   "outputs": [],
   "source": [
    "df_train = df[df['Column1']=='train']\n",
    "y_train = df_train.Label\n",
    "x_train = df_train.drop(['Label','Column1','Patient number'], axis=1)"
   ]
  },
  {
   "cell_type": "code",
   "execution_count": 10,
   "metadata": {},
   "outputs": [],
   "source": [
    "df_test = df[df['Column1']=='test']\n",
    "y_test = df_test.Label\n",
    "x_test = df_test.drop(['Label','Column1','Patient number'], axis=1)"
   ]
  },
  {
   "cell_type": "markdown",
   "metadata": {},
   "source": [
    "### Handling categorical values"
   ]
  },
  {
   "cell_type": "code",
   "execution_count": 11,
   "metadata": {},
   "outputs": [
    {
     "data": {
      "text/plain": [
       "['Chest location', 'Acquisition mode', 'Recording equipment', 'Sex']"
      ]
     },
     "execution_count": 11,
     "metadata": {},
     "output_type": "execute_result"
    }
   ],
   "source": [
    "s = (x_train.dtypes == 'object')\n",
    "object_cols = list(s[s].index)\n",
    "object_cols"
   ]
  },
  {
   "cell_type": "code",
   "execution_count": 12,
   "metadata": {
    "scrolled": true
   },
   "outputs": [],
   "source": [
    "from sklearn.preprocessing import OneHotEncoder\n",
    "oh_enc = OneHotEncoder(handle_unknown='ignore', sparse=False)\n",
    "oh_cols_train = pd.DataFrame(oh_enc.fit_transform(x_train[object_cols]))\n",
    "oh_cols_test = pd.DataFrame(oh_enc.transform(x_test[object_cols]))"
   ]
  },
  {
   "cell_type": "code",
   "execution_count": 13,
   "metadata": {},
   "outputs": [],
   "source": [
    "oh_cols_train.index = x_train.index\n",
    "oh_cols_test.index = x_test.index\n",
    "\n",
    "num_x_train = x_train.drop(object_cols, axis=1)\n",
    "num_x_test = x_test.drop(object_cols, axis=1)\n",
    "\n",
    "oh_x_train = pd.concat([num_x_train, oh_cols_train], axis=1)\n",
    "oh_x_test = pd.concat([num_x_test, oh_cols_test], axis=1)"
   ]
  },
  {
   "cell_type": "markdown",
   "metadata": {},
   "source": [
    "## Model training"
   ]
  },
  {
   "cell_type": "markdown",
   "metadata": {},
   "source": [
    "### Approach 1: Base Model"
   ]
  },
  {
   "cell_type": "code",
   "execution_count": 14,
   "metadata": {
    "scrolled": true
   },
   "outputs": [
    {
     "data": {
      "text/plain": [
       "LogisticRegression(max_iter=1000)"
      ]
     },
     "execution_count": 14,
     "metadata": {},
     "output_type": "execute_result"
    }
   ],
   "source": [
    "from sklearn.linear_model import LogisticRegression\n",
    "from sklearn.metrics import classification_report\n",
    "log_classifier = LogisticRegression(max_iter=1000)\n",
    "log_classifier.fit(oh_x_train,y_train)"
   ]
  },
  {
   "cell_type": "code",
   "execution_count": 15,
   "metadata": {},
   "outputs": [
    {
     "name": "stdout",
     "output_type": "stream",
     "text": [
      "              precision    recall  f1-score   support\n",
      "\n",
      "           0       0.95      0.98      0.96      2461\n",
      "           1       0.48      0.22      0.30       175\n",
      "\n",
      "    accuracy                           0.93      2636\n",
      "   macro avg       0.71      0.60      0.63      2636\n",
      "weighted avg       0.92      0.93      0.92      2636\n",
      "\n"
     ]
    }
   ],
   "source": [
    "y_pred = log_classifier.predict(oh_x_test)\n",
    "\n",
    "print(classification_report(y_test, y_pred))"
   ]
  },
  {
   "cell_type": "code",
   "execution_count": 16,
   "metadata": {},
   "outputs": [
    {
     "data": {
      "text/plain": [
       "RandomForestClassifier()"
      ]
     },
     "execution_count": 16,
     "metadata": {},
     "output_type": "execute_result"
    }
   ],
   "source": [
    "from sklearn.ensemble import RandomForestClassifier\n",
    "ranfr_classifier = RandomForestClassifier()\n",
    "ranfr_classifier.fit(oh_x_train, y_train)"
   ]
  },
  {
   "cell_type": "code",
   "execution_count": 17,
   "metadata": {},
   "outputs": [
    {
     "name": "stdout",
     "output_type": "stream",
     "text": [
      "              precision    recall  f1-score   support\n",
      "\n",
      "           0       0.95      0.99      0.97      2461\n",
      "           1       0.67      0.34      0.45       175\n",
      "\n",
      "    accuracy                           0.94      2636\n",
      "   macro avg       0.81      0.67      0.71      2636\n",
      "weighted avg       0.94      0.94      0.94      2636\n",
      "\n"
     ]
    }
   ],
   "source": [
    "Y_pred = ranfr_classifier.predict(oh_x_test)\n",
    "print(classification_report(y_test, Y_pred))"
   ]
  },
  {
   "cell_type": "markdown",
   "metadata": {},
   "source": [
    "### Approach 2: Calculating BMI for children"
   ]
  },
  {
   "cell_type": "code",
   "execution_count": 18,
   "metadata": {},
   "outputs": [
    {
     "name": "stderr",
     "output_type": "stream",
     "text": [
      "<ipython-input-18-df85e1e9c6aa>:1: RuntimeWarning: divide by zero encountered in true_divide\n",
      "  x = df[df[\"BMI(Adult)\"] == 0.0].iloc[:,12].values/(df[df[\"BMI(Adult)\"] == 0.0].iloc[:,11].values*0.01)**2\n",
      "<ipython-input-18-df85e1e9c6aa>:1: RuntimeWarning: invalid value encountered in true_divide\n",
      "  x = df[df[\"BMI(Adult)\"] == 0.0].iloc[:,12].values/(df[df[\"BMI(Adult)\"] == 0.0].iloc[:,11].values*0.01)**2\n"
     ]
    }
   ],
   "source": [
    "x = df[df[\"BMI(Adult)\"] == 0.0].iloc[:,12].values/(df[df[\"BMI(Adult)\"] == 0.0].iloc[:,11].values*0.01)**2"
   ]
  },
  {
   "cell_type": "code",
   "execution_count": 19,
   "metadata": {},
   "outputs": [],
   "source": [
    "df.loc[df[\"BMI(Adult)\"] == 0.0,\"BMI(Adult)\"] = x"
   ]
  },
  {
   "cell_type": "code",
   "execution_count": 20,
   "metadata": {},
   "outputs": [
    {
     "data": {
      "text/html": [
       "<div>\n",
       "<style scoped>\n",
       "    .dataframe tbody tr th:only-of-type {\n",
       "        vertical-align: middle;\n",
       "    }\n",
       "\n",
       "    .dataframe tbody tr th {\n",
       "        vertical-align: top;\n",
       "    }\n",
       "\n",
       "    .dataframe thead th {\n",
       "        text-align: right;\n",
       "    }\n",
       "</style>\n",
       "<table border=\"1\" class=\"dataframe\">\n",
       "  <thead>\n",
       "    <tr style=\"text-align: right;\">\n",
       "      <th></th>\n",
       "      <th>Patient number</th>\n",
       "      <th>Chest location</th>\n",
       "      <th>Acquisition mode</th>\n",
       "      <th>Recording equipment</th>\n",
       "      <th>Beginning of respiratory cycle</th>\n",
       "      <th>End of respiratory cycle</th>\n",
       "      <th>Crackles</th>\n",
       "      <th>Wheezes</th>\n",
       "      <th>Age</th>\n",
       "      <th>Sex</th>\n",
       "      <th>BMI(Adult)</th>\n",
       "      <th>Height(Child)</th>\n",
       "      <th>Weight(Child)</th>\n",
       "      <th>Label</th>\n",
       "      <th>Column1</th>\n",
       "    </tr>\n",
       "  </thead>\n",
       "  <tbody>\n",
       "    <tr>\n",
       "      <th>0</th>\n",
       "      <td>101</td>\n",
       "      <td>Al</td>\n",
       "      <td>sc</td>\n",
       "      <td>Meditron</td>\n",
       "      <td>0.036</td>\n",
       "      <td>0.579</td>\n",
       "      <td>0</td>\n",
       "      <td>0</td>\n",
       "      <td>3.0</td>\n",
       "      <td>F</td>\n",
       "      <td>19.385777</td>\n",
       "      <td>99.0</td>\n",
       "      <td>19.0</td>\n",
       "      <td>0</td>\n",
       "      <td>test</td>\n",
       "    </tr>\n",
       "    <tr>\n",
       "      <th>1</th>\n",
       "      <td>101</td>\n",
       "      <td>Al</td>\n",
       "      <td>sc</td>\n",
       "      <td>Meditron</td>\n",
       "      <td>0.579</td>\n",
       "      <td>2.450</td>\n",
       "      <td>0</td>\n",
       "      <td>0</td>\n",
       "      <td>3.0</td>\n",
       "      <td>F</td>\n",
       "      <td>19.385777</td>\n",
       "      <td>99.0</td>\n",
       "      <td>19.0</td>\n",
       "      <td>0</td>\n",
       "      <td>test</td>\n",
       "    </tr>\n",
       "    <tr>\n",
       "      <th>2</th>\n",
       "      <td>101</td>\n",
       "      <td>Al</td>\n",
       "      <td>sc</td>\n",
       "      <td>Meditron</td>\n",
       "      <td>2.450</td>\n",
       "      <td>3.893</td>\n",
       "      <td>0</td>\n",
       "      <td>0</td>\n",
       "      <td>3.0</td>\n",
       "      <td>F</td>\n",
       "      <td>19.385777</td>\n",
       "      <td>99.0</td>\n",
       "      <td>19.0</td>\n",
       "      <td>0</td>\n",
       "      <td>test</td>\n",
       "    </tr>\n",
       "    <tr>\n",
       "      <th>3</th>\n",
       "      <td>101</td>\n",
       "      <td>Al</td>\n",
       "      <td>sc</td>\n",
       "      <td>Meditron</td>\n",
       "      <td>3.893</td>\n",
       "      <td>5.793</td>\n",
       "      <td>0</td>\n",
       "      <td>0</td>\n",
       "      <td>3.0</td>\n",
       "      <td>F</td>\n",
       "      <td>19.385777</td>\n",
       "      <td>99.0</td>\n",
       "      <td>19.0</td>\n",
       "      <td>0</td>\n",
       "      <td>test</td>\n",
       "    </tr>\n",
       "    <tr>\n",
       "      <th>4</th>\n",
       "      <td>101</td>\n",
       "      <td>Al</td>\n",
       "      <td>sc</td>\n",
       "      <td>Meditron</td>\n",
       "      <td>5.793</td>\n",
       "      <td>7.521</td>\n",
       "      <td>0</td>\n",
       "      <td>0</td>\n",
       "      <td>3.0</td>\n",
       "      <td>F</td>\n",
       "      <td>19.385777</td>\n",
       "      <td>99.0</td>\n",
       "      <td>19.0</td>\n",
       "      <td>0</td>\n",
       "      <td>test</td>\n",
       "    </tr>\n",
       "  </tbody>\n",
       "</table>\n",
       "</div>"
      ],
      "text/plain": [
       "   Patient number Chest location Acquisition mode Recording equipment  \\\n",
       "0             101             Al               sc            Meditron   \n",
       "1             101             Al               sc            Meditron   \n",
       "2             101             Al               sc            Meditron   \n",
       "3             101             Al               sc            Meditron   \n",
       "4             101             Al               sc            Meditron   \n",
       "\n",
       "   Beginning of respiratory cycle  End of respiratory cycle  Crackles  \\\n",
       "0                           0.036                     0.579         0   \n",
       "1                           0.579                     2.450         0   \n",
       "2                           2.450                     3.893         0   \n",
       "3                           3.893                     5.793         0   \n",
       "4                           5.793                     7.521         0   \n",
       "\n",
       "   Wheezes  Age Sex  BMI(Adult)  Height(Child)  Weight(Child)  Label Column1  \n",
       "0        0  3.0   F   19.385777           99.0           19.0      0    test  \n",
       "1        0  3.0   F   19.385777           99.0           19.0      0    test  \n",
       "2        0  3.0   F   19.385777           99.0           19.0      0    test  \n",
       "3        0  3.0   F   19.385777           99.0           19.0      0    test  \n",
       "4        0  3.0   F   19.385777           99.0           19.0      0    test  "
      ]
     },
     "execution_count": 20,
     "metadata": {},
     "output_type": "execute_result"
    }
   ],
   "source": [
    "df.head()"
   ]
  },
  {
   "cell_type": "code",
   "execution_count": 21,
   "metadata": {},
   "outputs": [],
   "source": [
    "df=df[df[\"BMI(Adult)\"] < 10000]"
   ]
  },
  {
   "cell_type": "code",
   "execution_count": 22,
   "metadata": {},
   "outputs": [
    {
     "data": {
      "text/plain": [
       "Patient number                    0\n",
       "Chest location                    0\n",
       "Acquisition mode                  0\n",
       "Recording equipment               0\n",
       "Beginning of respiratory cycle    0\n",
       "End of respiratory cycle          0\n",
       "Crackles                          0\n",
       "Wheezes                           0\n",
       "Age                               0\n",
       "Sex                               0\n",
       "BMI(Adult)                        0\n",
       "Height(Child)                     0\n",
       "Weight(Child)                     0\n",
       "Label                             0\n",
       "Column1                           0\n",
       "dtype: int64"
      ]
     },
     "execution_count": 22,
     "metadata": {},
     "output_type": "execute_result"
    }
   ],
   "source": [
    "df.isna().sum()"
   ]
  },
  {
   "cell_type": "code",
   "execution_count": 23,
   "metadata": {},
   "outputs": [
    {
     "data": {
      "text/plain": [
       "Patient number                    0\n",
       "Chest location                    0\n",
       "Acquisition mode                  0\n",
       "Recording equipment               0\n",
       "Beginning of respiratory cycle    0\n",
       "End of respiratory cycle          0\n",
       "Crackles                          0\n",
       "Wheezes                           0\n",
       "Age                               0\n",
       "Sex                               0\n",
       "BMI(Adult)                        0\n",
       "Height(Child)                     0\n",
       "Weight(Child)                     0\n",
       "Label                             0\n",
       "Column1                           0\n",
       "dtype: int64"
      ]
     },
     "execution_count": 23,
     "metadata": {},
     "output_type": "execute_result"
    }
   ],
   "source": [
    "df=df.dropna()\n",
    "df.isna().sum()"
   ]
  },
  {
   "cell_type": "code",
   "execution_count": 24,
   "metadata": {},
   "outputs": [
    {
     "data": {
      "text/html": [
       "<div>\n",
       "<style scoped>\n",
       "    .dataframe tbody tr th:only-of-type {\n",
       "        vertical-align: middle;\n",
       "    }\n",
       "\n",
       "    .dataframe tbody tr th {\n",
       "        vertical-align: top;\n",
       "    }\n",
       "\n",
       "    .dataframe thead th {\n",
       "        text-align: right;\n",
       "    }\n",
       "</style>\n",
       "<table border=\"1\" class=\"dataframe\">\n",
       "  <thead>\n",
       "    <tr style=\"text-align: right;\">\n",
       "      <th></th>\n",
       "      <th>Patient number</th>\n",
       "      <th>Chest location</th>\n",
       "      <th>Acquisition mode</th>\n",
       "      <th>Recording equipment</th>\n",
       "      <th>Beginning of respiratory cycle</th>\n",
       "      <th>End of respiratory cycle</th>\n",
       "      <th>Crackles</th>\n",
       "      <th>Wheezes</th>\n",
       "      <th>Age</th>\n",
       "      <th>Sex</th>\n",
       "      <th>BMI(Adult)</th>\n",
       "      <th>Height(Child)</th>\n",
       "      <th>Weight(Child)</th>\n",
       "      <th>Label</th>\n",
       "      <th>Column1</th>\n",
       "    </tr>\n",
       "  </thead>\n",
       "  <tbody>\n",
       "    <tr>\n",
       "      <th>0</th>\n",
       "      <td>101</td>\n",
       "      <td>Al</td>\n",
       "      <td>sc</td>\n",
       "      <td>Meditron</td>\n",
       "      <td>0.036</td>\n",
       "      <td>0.579</td>\n",
       "      <td>0</td>\n",
       "      <td>0</td>\n",
       "      <td>3.0</td>\n",
       "      <td>F</td>\n",
       "      <td>19.385777</td>\n",
       "      <td>99.0</td>\n",
       "      <td>19.0</td>\n",
       "      <td>0</td>\n",
       "      <td>test</td>\n",
       "    </tr>\n",
       "    <tr>\n",
       "      <th>1</th>\n",
       "      <td>101</td>\n",
       "      <td>Al</td>\n",
       "      <td>sc</td>\n",
       "      <td>Meditron</td>\n",
       "      <td>0.579</td>\n",
       "      <td>2.450</td>\n",
       "      <td>0</td>\n",
       "      <td>0</td>\n",
       "      <td>3.0</td>\n",
       "      <td>F</td>\n",
       "      <td>19.385777</td>\n",
       "      <td>99.0</td>\n",
       "      <td>19.0</td>\n",
       "      <td>0</td>\n",
       "      <td>test</td>\n",
       "    </tr>\n",
       "    <tr>\n",
       "      <th>2</th>\n",
       "      <td>101</td>\n",
       "      <td>Al</td>\n",
       "      <td>sc</td>\n",
       "      <td>Meditron</td>\n",
       "      <td>2.450</td>\n",
       "      <td>3.893</td>\n",
       "      <td>0</td>\n",
       "      <td>0</td>\n",
       "      <td>3.0</td>\n",
       "      <td>F</td>\n",
       "      <td>19.385777</td>\n",
       "      <td>99.0</td>\n",
       "      <td>19.0</td>\n",
       "      <td>0</td>\n",
       "      <td>test</td>\n",
       "    </tr>\n",
       "    <tr>\n",
       "      <th>3</th>\n",
       "      <td>101</td>\n",
       "      <td>Al</td>\n",
       "      <td>sc</td>\n",
       "      <td>Meditron</td>\n",
       "      <td>3.893</td>\n",
       "      <td>5.793</td>\n",
       "      <td>0</td>\n",
       "      <td>0</td>\n",
       "      <td>3.0</td>\n",
       "      <td>F</td>\n",
       "      <td>19.385777</td>\n",
       "      <td>99.0</td>\n",
       "      <td>19.0</td>\n",
       "      <td>0</td>\n",
       "      <td>test</td>\n",
       "    </tr>\n",
       "    <tr>\n",
       "      <th>4</th>\n",
       "      <td>101</td>\n",
       "      <td>Al</td>\n",
       "      <td>sc</td>\n",
       "      <td>Meditron</td>\n",
       "      <td>5.793</td>\n",
       "      <td>7.521</td>\n",
       "      <td>0</td>\n",
       "      <td>0</td>\n",
       "      <td>3.0</td>\n",
       "      <td>F</td>\n",
       "      <td>19.385777</td>\n",
       "      <td>99.0</td>\n",
       "      <td>19.0</td>\n",
       "      <td>0</td>\n",
       "      <td>test</td>\n",
       "    </tr>\n",
       "    <tr>\n",
       "      <th>...</th>\n",
       "      <td>...</td>\n",
       "      <td>...</td>\n",
       "      <td>...</td>\n",
       "      <td>...</td>\n",
       "      <td>...</td>\n",
       "      <td>...</td>\n",
       "      <td>...</td>\n",
       "      <td>...</td>\n",
       "      <td>...</td>\n",
       "      <td>...</td>\n",
       "      <td>...</td>\n",
       "      <td>...</td>\n",
       "      <td>...</td>\n",
       "      <td>...</td>\n",
       "      <td>...</td>\n",
       "    </tr>\n",
       "    <tr>\n",
       "      <th>6893</th>\n",
       "      <td>226</td>\n",
       "      <td>Pl</td>\n",
       "      <td>sc</td>\n",
       "      <td>LittC2SE</td>\n",
       "      <td>11.721</td>\n",
       "      <td>13.693</td>\n",
       "      <td>1</td>\n",
       "      <td>0</td>\n",
       "      <td>4.0</td>\n",
       "      <td>M</td>\n",
       "      <td>15.741352</td>\n",
       "      <td>103.0</td>\n",
       "      <td>16.7</td>\n",
       "      <td>0</td>\n",
       "      <td>train</td>\n",
       "    </tr>\n",
       "    <tr>\n",
       "      <th>6894</th>\n",
       "      <td>226</td>\n",
       "      <td>Pl</td>\n",
       "      <td>sc</td>\n",
       "      <td>LittC2SE</td>\n",
       "      <td>13.693</td>\n",
       "      <td>15.536</td>\n",
       "      <td>0</td>\n",
       "      <td>0</td>\n",
       "      <td>4.0</td>\n",
       "      <td>M</td>\n",
       "      <td>15.741352</td>\n",
       "      <td>103.0</td>\n",
       "      <td>16.7</td>\n",
       "      <td>0</td>\n",
       "      <td>train</td>\n",
       "    </tr>\n",
       "    <tr>\n",
       "      <th>6895</th>\n",
       "      <td>226</td>\n",
       "      <td>Pl</td>\n",
       "      <td>sc</td>\n",
       "      <td>LittC2SE</td>\n",
       "      <td>15.536</td>\n",
       "      <td>17.493</td>\n",
       "      <td>0</td>\n",
       "      <td>0</td>\n",
       "      <td>4.0</td>\n",
       "      <td>M</td>\n",
       "      <td>15.741352</td>\n",
       "      <td>103.0</td>\n",
       "      <td>16.7</td>\n",
       "      <td>0</td>\n",
       "      <td>train</td>\n",
       "    </tr>\n",
       "    <tr>\n",
       "      <th>6896</th>\n",
       "      <td>226</td>\n",
       "      <td>Pl</td>\n",
       "      <td>sc</td>\n",
       "      <td>LittC2SE</td>\n",
       "      <td>17.493</td>\n",
       "      <td>19.436</td>\n",
       "      <td>1</td>\n",
       "      <td>0</td>\n",
       "      <td>4.0</td>\n",
       "      <td>M</td>\n",
       "      <td>15.741352</td>\n",
       "      <td>103.0</td>\n",
       "      <td>16.7</td>\n",
       "      <td>0</td>\n",
       "      <td>train</td>\n",
       "    </tr>\n",
       "    <tr>\n",
       "      <th>6897</th>\n",
       "      <td>226</td>\n",
       "      <td>Pl</td>\n",
       "      <td>sc</td>\n",
       "      <td>LittC2SE</td>\n",
       "      <td>19.436</td>\n",
       "      <td>19.979</td>\n",
       "      <td>0</td>\n",
       "      <td>0</td>\n",
       "      <td>4.0</td>\n",
       "      <td>M</td>\n",
       "      <td>15.741352</td>\n",
       "      <td>103.0</td>\n",
       "      <td>16.7</td>\n",
       "      <td>0</td>\n",
       "      <td>train</td>\n",
       "    </tr>\n",
       "  </tbody>\n",
       "</table>\n",
       "<p>6730 rows × 15 columns</p>\n",
       "</div>"
      ],
      "text/plain": [
       "      Patient number Chest location Acquisition mode Recording equipment  \\\n",
       "0                101             Al               sc            Meditron   \n",
       "1                101             Al               sc            Meditron   \n",
       "2                101             Al               sc            Meditron   \n",
       "3                101             Al               sc            Meditron   \n",
       "4                101             Al               sc            Meditron   \n",
       "...              ...            ...              ...                 ...   \n",
       "6893             226             Pl               sc            LittC2SE   \n",
       "6894             226             Pl               sc            LittC2SE   \n",
       "6895             226             Pl               sc            LittC2SE   \n",
       "6896             226             Pl               sc            LittC2SE   \n",
       "6897             226             Pl               sc            LittC2SE   \n",
       "\n",
       "      Beginning of respiratory cycle  End of respiratory cycle  Crackles  \\\n",
       "0                              0.036                     0.579         0   \n",
       "1                              0.579                     2.450         0   \n",
       "2                              2.450                     3.893         0   \n",
       "3                              3.893                     5.793         0   \n",
       "4                              5.793                     7.521         0   \n",
       "...                              ...                       ...       ...   \n",
       "6893                          11.721                    13.693         1   \n",
       "6894                          13.693                    15.536         0   \n",
       "6895                          15.536                    17.493         0   \n",
       "6896                          17.493                    19.436         1   \n",
       "6897                          19.436                    19.979         0   \n",
       "\n",
       "      Wheezes  Age Sex  BMI(Adult)  Height(Child)  Weight(Child)  Label  \\\n",
       "0           0  3.0   F   19.385777           99.0           19.0      0   \n",
       "1           0  3.0   F   19.385777           99.0           19.0      0   \n",
       "2           0  3.0   F   19.385777           99.0           19.0      0   \n",
       "3           0  3.0   F   19.385777           99.0           19.0      0   \n",
       "4           0  3.0   F   19.385777           99.0           19.0      0   \n",
       "...       ...  ...  ..         ...            ...            ...    ...   \n",
       "6893        0  4.0   M   15.741352          103.0           16.7      0   \n",
       "6894        0  4.0   M   15.741352          103.0           16.7      0   \n",
       "6895        0  4.0   M   15.741352          103.0           16.7      0   \n",
       "6896        0  4.0   M   15.741352          103.0           16.7      0   \n",
       "6897        0  4.0   M   15.741352          103.0           16.7      0   \n",
       "\n",
       "     Column1  \n",
       "0       test  \n",
       "1       test  \n",
       "2       test  \n",
       "3       test  \n",
       "4       test  \n",
       "...      ...  \n",
       "6893   train  \n",
       "6894   train  \n",
       "6895   train  \n",
       "6896   train  \n",
       "6897   train  \n",
       "\n",
       "[6730 rows x 15 columns]"
      ]
     },
     "execution_count": 24,
     "metadata": {},
     "output_type": "execute_result"
    }
   ],
   "source": [
    "df"
   ]
  },
  {
   "cell_type": "markdown",
   "metadata": {},
   "source": [
    "### Dropping Height and Weight as well"
   ]
  },
  {
   "cell_type": "code",
   "execution_count": 25,
   "metadata": {},
   "outputs": [],
   "source": [
    "df_train = df[df['Column1']=='train']\n",
    "y_train = df_train.Label\n",
    "x_train = df_train.drop(['Label','Column1','Patient number','Height(Child)', 'Weight(Child)'], axis=1)\n",
    "\n",
    "df_test = df[df['Column1']=='test']\n",
    "y_test = df_test.Label\n",
    "x_test = df_test.drop(['Label','Column1','Patient number','Height(Child)', 'Weight(Child)'], axis=1)\n",
    "\n",
    "s = (x_train.dtypes == 'object')\n",
    "object_cols = list(s[s].index)\n",
    "object_cols\n",
    "\n",
    "from sklearn.preprocessing import OneHotEncoder\n",
    "oh_enc = OneHotEncoder(handle_unknown='ignore', sparse=False)\n",
    "oh_cols_train = pd.DataFrame(oh_enc.fit_transform(x_train[object_cols]))\n",
    "oh_cols_test = pd.DataFrame(oh_enc.transform(x_test[object_cols]))\n",
    "\n",
    "\n",
    "\n",
    "oh_cols_train.index = x_train.index\n",
    "oh_cols_test.index = x_test.index\n",
    "\n",
    "num_x_train = x_train.drop(object_cols, axis=1)\n",
    "num_x_test = x_test.drop(object_cols, axis=1)\n",
    "\n",
    "oh_x_train = pd.concat([num_x_train, oh_cols_train], axis=1)\n",
    "oh_x_test = pd.concat([num_x_test, oh_cols_test], axis=1)\n",
    "\n"
   ]
  },
  {
   "cell_type": "code",
   "execution_count": 26,
   "metadata": {},
   "outputs": [
    {
     "data": {
      "text/plain": [
       "LogisticRegression(max_iter=1000)"
      ]
     },
     "execution_count": 26,
     "metadata": {},
     "output_type": "execute_result"
    }
   ],
   "source": [
    "from sklearn.linear_model import LogisticRegression\n",
    "from sklearn.metrics import classification_report\n",
    "log_classifier = LogisticRegression(max_iter=1000)\n",
    "log_classifier.fit(oh_x_train,y_train)"
   ]
  },
  {
   "cell_type": "code",
   "execution_count": 27,
   "metadata": {},
   "outputs": [
    {
     "name": "stdout",
     "output_type": "stream",
     "text": [
      "              precision    recall  f1-score   support\n",
      "\n",
      "           0       0.95      0.99      0.97      2387\n",
      "           1       0.65      0.25      0.36       175\n",
      "\n",
      "    accuracy                           0.94      2562\n",
      "   macro avg       0.80      0.62      0.67      2562\n",
      "weighted avg       0.93      0.94      0.93      2562\n",
      "\n"
     ]
    }
   ],
   "source": [
    "Y_pred = log_classifier.predict(oh_x_test)\n",
    "print(classification_report(y_test, Y_pred))"
   ]
  },
  {
   "cell_type": "code",
   "execution_count": 28,
   "metadata": {},
   "outputs": [
    {
     "name": "stdout",
     "output_type": "stream",
     "text": [
      "              precision    recall  f1-score   support\n",
      "\n",
      "           0       0.96      0.98      0.97      2387\n",
      "           1       0.62      0.38      0.47       175\n",
      "\n",
      "    accuracy                           0.94      2562\n",
      "   macro avg       0.79      0.68      0.72      2562\n",
      "weighted avg       0.93      0.94      0.94      2562\n",
      "\n"
     ]
    }
   ],
   "source": [
    "from sklearn.ensemble import RandomForestClassifier\n",
    "ranfr_classifier = RandomForestClassifier()\n",
    "ranfr_classifier.fit(oh_x_train, y_train)\n",
    "\n",
    "y_pred = ranfr_classifier.predict(oh_x_test)\n",
    "print(classification_report(y_test, y_pred))"
   ]
  },
  {
   "cell_type": "markdown",
   "metadata": {},
   "source": [
    "### Comparing both models"
   ]
  },
  {
   "cell_type": "code",
   "execution_count": 29,
   "metadata": {},
   "outputs": [],
   "source": [
    "lr_prob = log_classifier.predict_proba(oh_x_test)\n",
    "rf_prob = ranfr_classifier.predict_proba(oh_x_test)"
   ]
  },
  {
   "cell_type": "code",
   "execution_count": 30,
   "metadata": {},
   "outputs": [],
   "source": [
    "lr_prob = lr_prob[:,1]\n",
    "rf_prob = rf_prob[:,1]"
   ]
  },
  {
   "cell_type": "code",
   "execution_count": 31,
   "metadata": {},
   "outputs": [
    {
     "name": "stdout",
     "output_type": "stream",
     "text": [
      "Logistic Regression AUROC =  0.9773152193428692\n",
      "Random Forest AUROC =  0.9513878747980131\n"
     ]
    }
   ],
   "source": [
    "from sklearn.metrics import roc_curve, roc_auc_score\n",
    "\n",
    "lr_auc = roc_auc_score(y_test, lr_prob)\n",
    "rf_auc = roc_auc_score(y_test, rf_prob)\n",
    "\n",
    "print('Logistic Regression AUROC = ',lr_auc)\n",
    "print('Random Forest AUROC = ', rf_auc)"
   ]
  },
  {
   "cell_type": "code",
   "execution_count": 33,
   "metadata": {},
   "outputs": [],
   "source": [
    "lr_fpr, lr_tpr, _ = roc_curve(y_test,lr_prob)\n",
    "rf_fpr, rf_tpr, _ = roc_curve(y_test,rf_prob)"
   ]
  },
  {
   "cell_type": "code",
   "execution_count": 36,
   "metadata": {},
   "outputs": [
    {
     "data": {
      "image/png": "[encoded data removed]",
      "text/plain": [
       "<Figure size 432x288 with 1 Axes>"
      ]
     },
     "metadata": {
      "needs_background": "light"
     },
     "output_type": "display_data"
    }
   ],
   "source": [
    "plt.plot(lr_fpr, lr_tpr, marker='.',label='LR')\n",
    "plt.plot(rf_fpr, rf_tpr, marker=',',label='RF')\n",
    "plt.title('ROC Plot')\n",
    "plt.xlabel('False Positive Rate')\n",
    "plt.ylabel('True Positive Rate')\n",
    "plt.legend()\n",
    "plt.show()"
   ]
  },
  {
   "cell_type": "markdown",
   "metadata": {},
   "source": [
    "### As the area under curve for logistic regression is larger, it performs better than random forest classifier"
   ]
  }
 ],
 "metadata": {
  "kernelspec": {
   "display_name": "Python 3",
   "language": "python",
   "name": "python3"
  },
  "language_info": {
   "codemirror_mode": {
    "name": "ipython",
    "version": 3
   },
   "file_extension": ".py",
   "mimetype": "text/x-python",
   "name": "python",
   "nbconvert_exporter": "python",
   "pygments_lexer": "ipython3",
   "version": "3.8.5"
  }
 },
 "nbformat": 4,
 "nbformat_minor": 4
}
